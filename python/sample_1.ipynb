{
 "cells": [
  {
   "cell_type": "markdown",
   "metadata": {},
   "source": [
    "**Using Python to interact with Microsoft Azure Cosmos DB (MongoDB API)**"
   ]
  },
  {
   "cell_type": "code",
   "execution_count": 20,
   "metadata": {},
   "outputs": [],
   "source": [
    "# Import necessary libraries.\n",
    "from pymongo import MongoClient\n",
    "from random import randint"
   ]
  },
  {
   "cell_type": "code",
   "execution_count": 21,
   "metadata": {},
   "outputs": [],
   "source": [
    "# Define necessary variables.\n",
    "# CONNECTION_STRING = \"PLEASE_ENTER_YOUR_OWN_CONNECTION_STRING\"\n",
    "DB_NAME = \"testdb\"\n",
    "COLLECTION_NAME = \"test1\"\n",
    "PRODUCT_ID = \"product_id\"\n",
    "RECOMMEND_PRODUCT_ID = \"recommend_product_id\"\n",
    "RECOMMEND_PRODUCT_ID_1 = \"recommend_product_id_1\"\n",
    "RECOMMEND_PRODUCT_ID_2 = \"recommend_product_id_2\""
   ]
  },
  {
   "cell_type": "code",
   "execution_count": 22,
   "metadata": {},
   "outputs": [],
   "source": [
    "# Initiate Mongo client and connect to DB and Collection.\n",
    "client = MongoClient(CONNECTION_STRING)\n",
    "db = client[DB_NAME]\n",
    "collection = db[COLLECTION_NAME]"
   ]
  },
  {
   "cell_type": "code",
   "execution_count": 23,
   "metadata": {},
   "outputs": [
    {
     "name": "stdout",
     "output_type": "stream",
     "text": [
      "New document has been created with _id 6253af0fe7b2be24a73f91db\n",
      "Detail of new document _id 6253af0fe7b2be24a73f91db: {'_id': ObjectId('6253af0fe7b2be24a73f91db'), 'product_id': 375, 'recommend_product_id_1': 269, 'recommend_product_id_2': 98}\n"
     ]
    }
   ],
   "source": [
    "# [CREATE] Create new sample document in Cosmos DB (MongoDB).    \n",
    "document_id = collection.insert_one({PRODUCT_ID: randint(50, 500), RECOMMEND_PRODUCT_ID_1: randint(50, 500), RECOMMEND_PRODUCT_ID_2: randint(50, 500)}).inserted_id\n",
    "print(\"New document has been created with _id {}\".format(document_id))\n",
    "print(\"Detail of new document _id {}: {}\".format(document_id, collection.find_one({\"_id\": document_id})))"
   ]
  },
  {
   "cell_type": "code",
   "execution_count": 24,
   "metadata": {},
   "outputs": [],
   "source": [
    "# [CREATE] Create new sample document in Cosmos DB (MongoDB).\n",
    "# document_id = collection.insert_one({PRODUCT_ID: randint(50, 500), RECOMMEND_PRODUCT_ID: [randint(50, 500),randint(50, 500)]}).inserted_id\n",
    "# print(\"New document has been created with _id {}\".format(document_id))\n",
    "# print(\"Detail of new document _id {}: {}\".format(document_id, collection.find_one({\"_id\": document_id})))"
   ]
  },
  {
   "cell_type": "code",
   "execution_count": 25,
   "metadata": {},
   "outputs": [
    {
     "name": "stdout",
     "output_type": "stream",
     "text": [
      "Found a document with product_id 375: {'_id': ObjectId('6253af0fe7b2be24a73f91db'), 'product_id': 375, 'recommend_product_id_1': 269, 'recommend_product_id_2': 98}\n"
     ]
    }
   ],
   "source": [
    "# [READ] Find and print document with product_id equal to 375. \n",
    "print(\"Found a document with product_id 375: {}\".format(collection.find_one({\"product_id\": 375})))"
   ]
  },
  {
   "cell_type": "code",
   "execution_count": 26,
   "metadata": {},
   "outputs": [
    {
     "name": "stdout",
     "output_type": "stream",
     "text": [
      "{'_id': ObjectId('62539ee47b9ccee16e9c9496'), 'product_id': '1001', 'recommend_product_id_1': '1002', 'recommend_product_id_2': '1003'}\n",
      "{'_id': ObjectId('62539f3752ab0e03142ad413'), 'product_id': '1002', 'recommend_product_id_1': '1003', 'recommend_product_id_2': '1004'}\n",
      "{'_id': ObjectId('6253af0fe7b2be24a73f91db'), 'product_id': 375, 'recommend_product_id_1': 269, 'recommend_product_id_2': 98}\n"
     ]
    }
   ],
   "source": [
    "# [READ] List all documents in collection.\n",
    "alldoc = collection.find({})\n",
    "for document in alldoc:\n",
    "        print(document)"
   ]
  },
  {
   "cell_type": "code",
   "execution_count": 27,
   "metadata": {},
   "outputs": [
    {
     "name": "stdout",
     "output_type": "stream",
     "text": [
      "Found a document with product_id 375: {'_id': ObjectId('6253af0fe7b2be24a73f91db'), 'product_id': 375, 'recommend_product_id_1': 269, 'recommend_product_id_2': 98}\n",
      "Updated document with product_id product_id: {'_id': ObjectId('6253af0fe7b2be24a73f91db'), 'product_id': 375, 'recommend_product_id_1': 50, 'recommend_product_id_2': 238}\n"
     ]
    }
   ],
   "source": [
    "# [UPDATE] Update sample document in Cosmos DB (MongoDB).\n",
    "print(\"Found a document with product_id 375: {}\".format(collection.find_one({\"product_id\": 375})))\n",
    "\n",
    "collection.update_one({\"product_id\": 375}, {\"$set\":{RECOMMEND_PRODUCT_ID_1: randint(50, 500), RECOMMEND_PRODUCT_ID_2: randint(50, 500)}})\n",
    "print(\"Updated document with product_id {}: {}\".format(PRODUCT_ID, collection.find_one({\"product_id\": 375})))"
   ]
  },
  {
   "cell_type": "code",
   "execution_count": 28,
   "metadata": {},
   "outputs": [
    {
     "name": "stdout",
     "output_type": "stream",
     "text": [
      "Updated document with product_id product_id: None\n"
     ]
    }
   ],
   "source": [
    "# [DELETE] Delete sample document in Cosmos DB (MongoDB).\n",
    "collection.delete_one({\"product_id\": 375})\n",
    "\n",
    "print(\"Updated document with product_id {}: {}\".format(PRODUCT_ID, collection.find_one({\"product_id\": 375})))"
   ]
  }
 ],
 "metadata": {
  "interpreter": {
   "hash": "3a5da23c638ffa357c7baba15e52c82008761e3ccd1288ead1b7d87935fd6327"
  },
  "kernelspec": {
   "display_name": "Python 3.9.7 ('base')",
   "language": "python",
   "name": "python3"
  },
  "language_info": {
   "codemirror_mode": {
    "name": "ipython",
    "version": 3
   },
   "file_extension": ".py",
   "mimetype": "text/x-python",
   "name": "python",
   "nbconvert_exporter": "python",
   "pygments_lexer": "ipython3",
   "version": "3.9.7"
  },
  "orig_nbformat": 4
 },
 "nbformat": 4,
 "nbformat_minor": 2
}
