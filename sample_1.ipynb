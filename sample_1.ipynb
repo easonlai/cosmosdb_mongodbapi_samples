{
 "cells": [
  {
   "cell_type": "markdown",
   "metadata": {},
   "source": [
    "**Using Python to interact with Microsoft Azure Cosmos DB (MongoDB API)**"
   ]
  },
  {
   "cell_type": "code",
   "execution_count": 1,
   "metadata": {},
   "outputs": [],
   "source": [
    "# Import necessary libraries.\n",
    "from pymongo import MongoClient\n",
    "from random import randint"
   ]
  },
  {
   "cell_type": "code",
   "execution_count": 18,
   "metadata": {},
   "outputs": [],
   "source": [
    "# Define necessary variables.\n",
    "CONNECTION_STRING = \"PLEASE_ENTER_YOUR_OWN_CONNECTION_STRING\"\n",
    "DB_NAME = \"testdb\"\n",
    "COLLECTION_NAME = \"test1\"\n",
    "PRODUCT_ID = \"product_id\"\n",
    "RECOMMEND_PRODUCT_ID = \"recommend_product_id\""
   ]
  },
  {
   "cell_type": "code",
   "execution_count": 19,
   "metadata": {},
   "outputs": [],
   "source": [
    "# Initiate Mongo client and connect to DB and Collection.\n",
    "client = MongoClient(CONNECTION_STRING)\n",
    "db = client[DB_NAME]\n",
    "collection = db[COLLECTION_NAME]"
   ]
  },
  {
   "cell_type": "code",
   "execution_count": 23,
   "metadata": {},
   "outputs": [
    {
     "name": "stdout",
     "output_type": "stream",
     "text": [
      "New document has been created with _id 6251a9632bd6b43d7411773c\n",
      "Detail of new document _id 6251a9632bd6b43d7411773c: {'_id': ObjectId('6251a9632bd6b43d7411773c'), 'product_id': 406, 'recommend_product_id': [383, 70]}\n"
     ]
    }
   ],
   "source": [
    "# Create new sample document in Cosmos DB (MongoDB).    \n",
    "document_id = collection.insert_one({PRODUCT_ID: randint(50, 500), RECOMMEND_PRODUCT_ID: [randint(50, 500),randint(50, 500)]}).inserted_id\n",
    "print(\"New document has been created with _id {}\".format(document_id))\n",
    "print(\"Detail of new document _id {}: {}\".format(document_id, collection.find_one({\"_id\": document_id})))"
   ]
  },
  {
   "cell_type": "code",
   "execution_count": 24,
   "metadata": {},
   "outputs": [
    {
     "name": "stdout",
     "output_type": "stream",
     "text": [
      "Found a document with product_id 204: {'_id': ObjectId('62514ef4ec5f2115e9cde96b'), 'product_id': 204, 'recommend_product_id': [149, 85]}\n"
     ]
    }
   ],
   "source": [
    "# Find and print document with product_id equal to 204. \n",
    "print(\"Found a document with product_id 204: {}\".format(collection.find_one({\"product_id\": 204})))"
   ]
  },
  {
   "cell_type": "code",
   "execution_count": 26,
   "metadata": {},
   "outputs": [
    {
     "name": "stdout",
     "output_type": "stream",
     "text": [
      "{'_id': ObjectId('62514875ec5f2115e9cde966'), 'product_id': 401, 'recommend_product_id': [97, 170]}\n",
      "{'_id': ObjectId('62514aa8ec5f2115e9cde967'), 'product_id': 265, 'recommend_product_id': [471, 373]}\n",
      "{'_id': ObjectId('62514e64ec5f2115e9cde968'), 'product_id': 149, 'recommend_product_id': [385, 63]}\n",
      "{'_id': ObjectId('62514e9cec5f2115e9cde969'), 'product_id': 101, 'recommend_product_id': [95, 66]}\n",
      "{'_id': ObjectId('62514ecdec5f2115e9cde96a'), 'product_id': 173, 'recommend_product_id': [474, 364]}\n",
      "{'_id': ObjectId('62514ef4ec5f2115e9cde96b'), 'product_id': 204, 'recommend_product_id': [149, 85]}\n",
      "{'_id': ObjectId('6251a5ab2bd6b43d74117734'), 'product_id': 107, 'recommend_product_id': [493, 454]}\n",
      "{'_id': ObjectId('6251a66a2bd6b43d74117736'), 'product_id': 274, 'recommend_product_id': [357, 305]}\n",
      "{'_id': ObjectId('6251a7882bd6b43d74117739'), 'product_id': 390, 'recommend_product_id': [446, 396]}\n",
      "{'_id': ObjectId('6251a7a42bd6b43d7411773b'), 'product_id': 145, 'recommend_product_id': [402, 451]}\n",
      "{'_id': ObjectId('6251a9632bd6b43d7411773c'), 'product_id': 406, 'recommend_product_id': [383, 70]}\n"
     ]
    }
   ],
   "source": [
    "# List all documents in collection.\n",
    "alldoc = collection.find({})\n",
    "for document in alldoc:\n",
    "        print(document)"
   ]
  },
  {
   "cell_type": "code",
   "execution_count": null,
   "metadata": {},
   "outputs": [],
   "source": []
  }
 ],
 "metadata": {
  "interpreter": {
   "hash": "3a5da23c638ffa357c7baba15e52c82008761e3ccd1288ead1b7d87935fd6327"
  },
  "kernelspec": {
   "display_name": "Python 3.9.7 ('base')",
   "language": "python",
   "name": "python3"
  },
  "language_info": {
   "codemirror_mode": {
    "name": "ipython",
    "version": 3
   },
   "file_extension": ".py",
   "mimetype": "text/x-python",
   "name": "python",
   "nbconvert_exporter": "python",
   "pygments_lexer": "ipython3",
   "version": "3.9.7"
  },
  "orig_nbformat": 4
 },
 "nbformat": 4,
 "nbformat_minor": 2
}
